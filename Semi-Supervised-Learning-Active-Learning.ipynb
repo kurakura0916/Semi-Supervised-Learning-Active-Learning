{
 "cells": [
  {
   "cell_type": "code",
   "execution_count": 1,
   "metadata": {},
   "outputs": [
    {
     "name": "stderr",
     "output_type": "stream",
     "text": [
      "/Users/hiroki.kurasawa/anaconda3/lib/python3.6/site-packages/h5py/__init__.py:36: FutureWarning: Conversion of the second argument of issubdtype from `float` to `np.floating` is deprecated. In future, it will be treated as `np.float64 == np.dtype(float).type`.\n",
      "  from ._conv import register_converters as _register_converters\n"
     ]
    }
   ],
   "source": [
    "from chainer import Chain, configuration\n",
    "import chainer.links as L\n",
    "import chainer.functions as F\n",
    "from chainer.optimizers import Adam\n",
    "from chainer.datasets import mnist\n",
    "from chainer.iterators import SerialIterator\n",
    "from chainer.training import StandardUpdater, Trainer\n",
    "from chainer.training.extensions import PrintReport, LogReport, Evaluator\n",
    "from sklearn.model_selection import train_test_split\n",
    "from chainer import serializers\n",
    "import os\n",
    "import pickle\n",
    "import numpy as np\n",
    "import matplotlib.pyplot as plt\n",
    "%matplotlib inline\n",
    "np.random.seed(0)"
   ]
  },
  {
   "cell_type": "code",
   "execution_count": 2,
   "metadata": {},
   "outputs": [],
   "source": [
    "# データの取得\n",
    "train_all , test = mnist.get_mnist(ndim=3)"
   ]
  },
  {
   "cell_type": "code",
   "execution_count": 28,
   "metadata": {},
   "outputs": [
    {
     "name": "stdout",
     "output_type": "stream",
     "text": [
      "train_all_x >>(60000, 1, 28, 28)\n",
      "train_all_y >>(60000,)\n",
      "test_x >>(10000, 1, 28, 28)\n",
      "test_y >>(10000,)\n"
     ]
    }
   ],
   "source": [
    "# データサイズの確認\n",
    "print(\"train_all_x >>{}\".format(train_all._datasets[0].shape))\n",
    "print(\"train_all_y >>{}\".format(train_all._datasets[1].shape))\n",
    "print(\"test_x >>{}\".format(test._datasets[0].shape))\n",
    "print(\"test_y >>{}\".format(test._datasets[1].shape))"
   ]
  },
  {
   "cell_type": "code",
   "execution_count": 26,
   "metadata": {},
   "outputs": [],
   "source": [
    "# ラベリングされたものとされていないものに訓練データを分ける\n",
    "# 5000件のみラベリング済みとし、10,000件はラベリングされていないものとする\n",
    "num_initial_data = 5000\n",
    "\n",
    "x_train = train_all._datasets[0][:num_initial_data]\n",
    "x_train_sub = train_all._datasets[0][num_initial_data:][:10000]\n",
    "y_train = train_all._datasets[1][:num_initial_data]"
   ]
  },
  {
   "cell_type": "code",
   "execution_count": 31,
   "metadata": {},
   "outputs": [
    {
     "name": "stdout",
     "output_type": "stream",
     "text": [
      "x_train >>(5000, 1, 28, 28)\n",
      "x_train_sub >>(10000, 1, 28, 28)\n",
      "y_train >>(5000,)\n"
     ]
    }
   ],
   "source": [
    "# データサイズの確認\n",
    "print(\"x_train >>{}\".format(x_train.shape))\n",
    "print(\"x_train_sub >>{}\".format(x_train_sub.shape))\n",
    "print(\"y_train >>{}\".format(y_train.shape))"
   ]
  },
  {
   "cell_type": "code",
   "execution_count": 74,
   "metadata": {},
   "outputs": [],
   "source": [
    "# x_trainとy_trainをマージする関数\n",
    "def merge_data(x,y):\n",
    "    return [(x[i,:],y[i]) for i in range(len(x))]"
   ]
  },
  {
   "cell_type": "code",
   "execution_count": 39,
   "metadata": {},
   "outputs": [],
   "source": [
    "train = merge_data(x_train,y_train)"
   ]
  },
  {
   "cell_type": "code",
   "execution_count": 96,
   "metadata": {},
   "outputs": [],
   "source": [
    "# モデルの定義\n",
    "class Model(Chain):\n",
    "    def __init__(self):\n",
    "        super(Model,self).__init__()\n",
    "        with self.init_scope():\n",
    "            self.conv = L.Convolution2D(1,16,ksize=3)\n",
    "            self.batch = L.BatchNormalization(16)\n",
    "            self.linear = L.Linear(10)\n",
    "            \n",
    "    def __call__(self,x):\n",
    "        h = self.conv(x)\n",
    "        h = F.relu(h)\n",
    "        h = F.max_pooling_2d(h,ksize=3)\n",
    "        h = self.batch(h)\n",
    "        h = self.linear(h)\n",
    "        return h"
   ]
  },
  {
   "cell_type": "code",
   "execution_count": 97,
   "metadata": {},
   "outputs": [
    {
     "name": "stdout",
     "output_type": "stream",
     "text": [
      "iteration   main/loss   test/main/loss  main/accuracy  test/main/accuracy\n",
      "\u001b[J10          1.72315     1.0439          0.43           0.6712              \n",
      "\u001b[J20          0.773315    0.610828        0.794          0.8335              \n",
      "\u001b[J30          0.4597      0.470546        0.894          0.8698              \n",
      "\u001b[J40          0.416224    0.409463        0.888          0.8841              \n",
      "\u001b[J50          0.342664    0.359958        0.914          0.903               \n",
      "\u001b[J60          0.255517    0.327181        0.927          0.9114              \n",
      "\u001b[J70          0.235184    0.317359        0.94           0.9131              \n",
      "\u001b[J80          0.203972    0.29145         0.951          0.918               \n",
      "\u001b[J90          0.228116    0.269778        0.939          0.9256              \n"
     ]
    }
   ],
   "source": [
    "# 学習の実行\n",
    "model = Model()\n",
    "# 予め学習させておいたモデルの呼び出し\n",
    "# serializers.load_npz(\"model_initial\",model)\n",
    "classifier = L.Classifier(model)\n",
    "optimizer = Adam()\n",
    "optimizer.setup(classifier)\n",
    "\n",
    "train_iterator = SerialIterator(train,batch_size=100,repeat=True)\n",
    "test_iterator = SerialIterator(test,batch_size=100,shuffle=False,repeat=False)\n",
    "updater = StandardUpdater(train_iterator,optimizer,loss_func=classifier)\n",
    "trainer = Trainer(updater,(100,'iteration'))\n",
    "trainer.extend(Evaluator(test_iterator,classifier),trigger=(10,'iteration'),name=\"test\")\n",
    "trainer.extend(PrintReport(['iteration','main/loss','test/main/loss','main/accuracy','test/main/accuracy']))\n",
    "\n",
    "logreport =LogReport(trigger=(10,'iteration'))\n",
    "trainer.extend(logreport)\n",
    "trainer.run()\n",
    "serializers.save_npz('model',model)"
   ]
  },
  {
   "cell_type": "code",
   "execution_count": 98,
   "metadata": {},
   "outputs": [
    {
     "name": "stdout",
     "output_type": "stream",
     "text": [
      "****Scores for Test Data ****\n",
      "             precision    recall  f1-score   support\n",
      "\n",
      "        0.0       0.95      0.98      0.96       980\n",
      "        1.0       0.97      0.98      0.97      1135\n",
      "        2.0       0.90      0.89      0.90      1032\n",
      "        3.0       0.90      0.92      0.91      1010\n",
      "        4.0       0.95      0.93      0.94       982\n",
      "        5.0       0.92      0.89      0.91       892\n",
      "        6.0       0.97      0.93      0.95       958\n",
      "        7.0       0.94      0.91      0.93      1028\n",
      "        8.0       0.88      0.93      0.90       974\n",
      "        9.0       0.91      0.92      0.92      1009\n",
      "\n",
      "avg / total       0.93      0.93      0.93     10000\n",
      "\n"
     ]
    }
   ],
   "source": [
    "from sklearn.metrics import classification_report\n",
    "\n",
    "with configuration.using_config('train',False):\n",
    "    predicts = model(np.array([data[0] for data in test],dtype=np.float32))\n",
    "predicts = np.array([predict.data for predict in predicts])\n",
    "predicts_y = np.argmax(predicts,axis=1)\n",
    "\n",
    "print(\"****Scores for Test Data ****\")\n",
    "print(classification_report(np.array([data[1] for data in test],dtype=np.float32), predicts_y))"
   ]
  },
  {
   "cell_type": "markdown",
   "metadata": {},
   "source": [
    "# 半教師あり学習\n",
    "少ないデータで学習した分類器に対し、ラベルのないデータで予測を行い、その推論結果をラベリングし学習データにする"
   ]
  },
  {
   "cell_type": "markdown",
   "metadata": {},
   "source": [
    "# アクティブラーニング\n",
    "ラベルのないデータで推論を行うまでは半教師あり学習と一緒だが、重要なデータのみ人がラベル付けを行い学習データに取り込むこと\n",
    "\n",
    "重要なデータの定義は、様々だが今回は予測した結果の上位2番目と1番目の差が小さいものを重要とみなし、人の手でラベル付けをしていく"
   ]
  },
  {
   "cell_type": "code",
   "execution_count": 100,
   "metadata": {},
   "outputs": [],
   "source": [
    "# softmax関数\n",
    "def softmax(x):\n",
    "    exp_x = np.exp(x)\n",
    "    y = exp_x / np.sum(np.exp(x),axis=1,keepdims=True)\n",
    "    return y"
   ]
  },
  {
   "cell_type": "code",
   "execution_count": 101,
   "metadata": {},
   "outputs": [],
   "source": [
    "proba = softmax(model(x_train_sub).data)"
   ]
  },
  {
   "cell_type": "code",
   "execution_count": 102,
   "metadata": {},
   "outputs": [],
   "source": [
    "# 予測結果の上位2番目と1番目の差分と要素のインデックスを取得する関数\n",
    "def get_low_margin(proba,bound):\n",
    "    lm = []\n",
    "    for i in range(len(proba)):\n",
    "        margin = proba[i][np.argsort(proba[i])][-1] - proba[i][np.argsort(proba[i])][-2]\n",
    "        if margin < bound:\n",
    "            lm.append([i,margin])\n",
    "    return lm"
   ]
  },
  {
   "cell_type": "code",
   "execution_count": 103,
   "metadata": {},
   "outputs": [],
   "source": [
    "# 予測結果の高いデータのみを取得\n",
    "# probaの要素を1つづつ取り出して、boundよりも高いのかを確認しインデックスをリストに追加\n",
    "def get_high_proba(proba,bound):\n",
    "    hp =[]\n",
    "    for i in range(len(proba)):\n",
    "        for p in range(len(proba[i])):\n",
    "            if proba[i,p] > bound:\n",
    "                hp.append([i,p])\n",
    "    return hp"
   ]
  },
  {
   "cell_type": "code",
   "execution_count": 104,
   "metadata": {},
   "outputs": [],
   "source": [
    "def getdata_from_index(data,index):\n",
    "    return data[index]"
   ]
  },
  {
   "cell_type": "code",
   "execution_count": 105,
   "metadata": {},
   "outputs": [],
   "source": [
    "# 手動でラベリングを行う\n",
    "def add_label(x_train,index):\n",
    "    selected_x_train = getdata_from_index(x_train,index)\n",
    "    labels =[]\n",
    "    for i,d in enumerate(selected_x_train):\n",
    "        print(\"{0}/{1}\".format(i+1,selected_x_train.shape[0]))\n",
    "        plt.imshow(np.reshape(d,[28,28]),cmap=\"gray_r\")\n",
    "        plt.show()\n",
    "        label = input(\"enter label here\")\n",
    "        labels.append(int(label))\n",
    "    print(\"finished\")\n",
    "    selected_x_train = selected_x_train[:len(labels)]\n",
    "    return selected_x_train,labels"
   ]
  },
  {
   "cell_type": "code",
   "execution_count": 106,
   "metadata": {},
   "outputs": [],
   "source": [
    "# 半教師あり学習とアクティブラーニングによってラベリングしたデータを学習データに加える\n",
    "\n",
    "def concat_data(proba,x_train,y_train,x_train_sub,proba_limit,margin_limit):\n",
    "    # ラベル付けされていない要素数を表示\n",
    "    print(\"total number of data is {0}\".format(x_train_sub.shape[0]))\n",
    "    # 予測結果が曖昧な要素のインデックスと差分を取得\n",
    "    lm = get_low_margin(proba,margin_limit)\n",
    "    hp = get_high_proba(proba,proba_limit)\n",
    "    # 予測が曖昧（または信頼度の高い）になっている要素数と定義してい条件を表示\n",
    "    print(\"number of data with first and second choice probability lower than {0}:{1}\".format(margin_limit,len(lm)))\n",
    "    print(\"number of data with probabilty higher than {0}:{1}\".format(proba_limit,len(hp)))\n",
    "    \n",
    "    # 予測が曖昧になっているインデックスの取得\n",
    "    lm_index = np.array(lm,dtype=\"int64\")[:,0]\n",
    "    # ラベリングした要素とラベルを取得\n",
    "    lm_x_train , lm_y_train = add_label(x_train_sub,lm_index)\n",
    "    \n",
    "    # 予測結果の信頼度が高いインデックスを取得\n",
    "    hp_index = np.array(hp,dtype=\"int64\")[:,0]\n",
    "    hp_x_train = getdata_from_index(x_train_sub,hp_index)\n",
    "    # 予測結果の信頼度が高いラベルの取得\n",
    "    hp_y_train = np.array(hp,dtype=\"int64\")[:,1]\n",
    "    \n",
    "    # 手動でラベリングしたまたは信頼度が高いと判断された要素のインデックスのデータセットを取得\n",
    "    selected_index = np.concatenate((lm_index,hp_index))\n",
    "    # 手動でラベリングしたまたは信頼度が高いと判断された要素のデータセットを取得\n",
    "    selected_x_train = np.concatenate((lm_x_train,hp_x_train))\n",
    "    # 手動でラベリングしたまたは信頼度が高いと判断されたラベルを取得\n",
    "    selected_y_train = np.concatenate((lm_y_train,hp_y_train))\n",
    "    \n",
    "    # 手動でラベリングしたまたは信頼度が高いと判断されたデータセットを学習データへ追加\n",
    "    new_x_train = np.concatenate((x_train,selected_x_train))\n",
    "    new_y_train = np.concatenate((y_train,selected_y_train))\n",
    "    # ラベリングされていなかった元のデータから今回ラベリングされたデータを削除する\n",
    "    new_x_train_sub = np.delete(x_train_sub,selected_index,axis=0)\n",
    "    \n",
    "    print(\"{0} was added to training data\".format(selected_x_train.shape[0]))\n",
    "    \n",
    "    return new_x_train , new_y_train , new_x_train_sub"
   ]
  },
  {
   "cell_type": "code",
   "execution_count": 107,
   "metadata": {},
   "outputs": [
    {
     "name": "stdout",
     "output_type": "stream",
     "text": [
      "total number of data is 532\n",
      "number of data with first and second choice probability lower than 0.01:9\n",
      "number of data with probabilty higher than 0.95:9\n",
      "1/9\n"
     ]
    },
    {
     "data": {
      "image/png": "[encoded data removed]",
      "text/plain": [
       "<matplotlib.figure.Figure at 0x1a156525c0>"
      ]
     },
     "metadata": {},
     "output_type": "display_data"
    },
    {
     "name": "stdout",
     "output_type": "stream",
     "text": [
      "enter label here8\n",
      "2/9\n"
     ]
    },
    {
     "data": {
      "image/png": "[encoded data removed]",
      "text/plain": [
       "<matplotlib.figure.Figure at 0x1a2e66c908>"
      ]
     },
     "metadata": {},
     "output_type": "display_data"
    },
    {
     "name": "stdout",
     "output_type": "stream",
     "text": [
      "enter label here7\n",
      "3/9\n"
     ]
    },
    {
     "data": {
      "image/png": "[encoded data removed]",
      "text/plain": [
       "<matplotlib.figure.Figure at 0x1a2ed389e8>"
      ]
     },
     "metadata": {},
     "output_type": "display_data"
    },
    {
     "name": "stdout",
     "output_type": "stream",
     "text": [
      "enter label here3\n",
      "4/9\n"
     ]
    },
    {
     "data": {
      "image/png": "[encoded data removed]",
      "text/plain": [
       "<matplotlib.figure.Figure at 0x1a2ee039b0>"
      ]
     },
     "metadata": {},
     "output_type": "display_data"
    },
    {
     "name": "stdout",
     "output_type": "stream",
     "text": [
      "enter label here2\n",
      "5/9\n"
     ]
    },
    {
     "data": {
      "image/png": "[encoded data removed]",
      "text/plain": [
       "<matplotlib.figure.Figure at 0x1a2eeab9e8>"
      ]
     },
     "metadata": {},
     "output_type": "display_data"
    },
    {
     "name": "stdout",
     "output_type": "stream",
     "text": [
      "enter label here8\n",
      "6/9\n"
     ]
    },
    {
     "data": {
      "image/png": "[encoded data removed]",
      "text/plain": [
       "<matplotlib.figure.Figure at 0x1a2f019d68>"
      ]
     },
     "metadata": {},
     "output_type": "display_data"
    },
    {
     "name": "stdout",
     "output_type": "stream",
     "text": [
      "enter label here7\n",
      "7/9\n"
     ]
    },
    {
     "data": {
      "image/png": "[encoded data removed]",
      "text/plain": [
       "<matplotlib.figure.Figure at 0x1a2f0bb1d0>"
      ]
     },
     "metadata": {},
     "output_type": "display_data"
    },
    {
     "name": "stdout",
     "output_type": "stream",
     "text": [
      "enter label here1\n",
      "8/9\n"
     ]
    },
    {
     "data": {
      "image/png": "[encoded data removed]",
      "text/plain": [
       "<matplotlib.figure.Figure at 0x1a2eeabda0>"
      ]
     },
     "metadata": {},
     "output_type": "display_data"
    },
    {
     "name": "stdout",
     "output_type": "stream",
     "text": [
      "enter label here9\n",
      "9/9\n"
     ]
    },
    {
     "data": {
      "image/png": "[encoded data removed]",
      "text/plain": [
       "<matplotlib.figure.Figure at 0x1a24387320>"
      ]
     },
     "metadata": {},
     "output_type": "display_data"
    },
    {
     "name": "stdout",
     "output_type": "stream",
     "text": [
      "enter label here8\n",
      "finished\n",
      "18 was added to training data\n"
     ]
    }
   ],
   "source": [
    "x_train , y_train , x_train_sub = concat_data(proba,x_train,y_train,x_train_sub,proba_limit = 0.95,margin_limit = 0.01)"
   ]
  },
  {
   "cell_type": "code",
   "execution_count": 108,
   "metadata": {},
   "outputs": [
    {
     "name": "stdout",
     "output_type": "stream",
     "text": [
      "(14486, 1, 28, 28)\n",
      "(514, 1, 28, 28)\n",
      "(14486,)\n"
     ]
    }
   ],
   "source": [
    "print(x_train.shape)\n",
    "print(x_train_sub.shape)\n",
    "print(y_train.shape)"
   ]
  },
  {
   "cell_type": "code",
   "execution_count": 109,
   "metadata": {},
   "outputs": [],
   "source": [
    "train  = merge_data(x_train,y_train)"
   ]
  },
  {
   "cell_type": "code",
   "execution_count": 110,
   "metadata": {},
   "outputs": [
    {
     "name": "stdout",
     "output_type": "stream",
     "text": [
      "iteration   main/loss   test/main/loss  main/accuracy  test/main/accuracy\n",
      "\u001b[J10          0.01652     0.123169        0.997          0.9632              \n",
      "\u001b[J20          0.0146801   0.111233        0.998          0.9665              \n",
      "\u001b[J30          0.0214176   0.115033        0.998          0.9652              \n",
      "\u001b[J40          0.0176661   0.108189        0.994          0.9674              \n",
      "\u001b[J50          0.0133107   0.117303        0.997          0.9637              \n",
      "\u001b[J60          0.01753     0.111126        0.994          0.9678              \n",
      "\u001b[J70          0.0145309   0.119306        0.998          0.9651              \n",
      "\u001b[J80          0.013613    0.112471        0.998          0.9671              \n",
      "\u001b[J90          0.0114545   0.122771        0.996          0.9647              \n"
     ]
    }
   ],
   "source": [
    "# 学習の実行\n",
    "model = Model()\n",
    "# 予め学習させておいたモデルの呼び出し\n",
    "serializers.load_npz(\"model_initial\",model)\n",
    "classifier = L.Classifier(model)\n",
    "optimizer = Adam()\n",
    "optimizer.setup(classifier)\n",
    "\n",
    "train_iterator = SerialIterator(train,batch_size=100,repeat=True)\n",
    "test_iterator = SerialIterator(test,batch_size=100,shuffle=False,repeat=False)\n",
    "updater = StandardUpdater(train_iterator,optimizer,loss_func=classifier)\n",
    "trainer = Trainer(updater,(100,'iteration'))\n",
    "trainer.extend(Evaluator(test_iterator,classifier),trigger=(10,'iteration'),name=\"test\")\n",
    "trainer.extend(PrintReport(['iteration','main/loss','test/main/loss','main/accuracy','test/main/accuracy']))\n",
    "\n",
    "logreport =LogReport(trigger=(10,'iteration'))\n",
    "trainer.extend(logreport)\n",
    "trainer.run()\n",
    "serializers.save_npz('model',model)"
   ]
  },
  {
   "cell_type": "code",
   "execution_count": 111,
   "metadata": {},
   "outputs": [
    {
     "name": "stdout",
     "output_type": "stream",
     "text": [
      "****Scores for Test Data ****\n",
      "             precision    recall  f1-score   support\n",
      "\n",
      "        0.0       0.97      0.99      0.98       980\n",
      "        1.0       0.99      0.98      0.99      1135\n",
      "        2.0       0.93      0.97      0.95      1032\n",
      "        3.0       0.98      0.96      0.97      1010\n",
      "        4.0       0.97      0.97      0.97       982\n",
      "        5.0       0.97      0.97      0.97       892\n",
      "        6.0       0.97      0.98      0.97       958\n",
      "        7.0       0.97      0.95      0.96      1028\n",
      "        8.0       0.98      0.93      0.95       974\n",
      "        9.0       0.94      0.97      0.96      1009\n",
      "\n",
      "avg / total       0.97      0.97      0.97     10000\n",
      "\n"
     ]
    }
   ],
   "source": [
    "from sklearn.metrics import classification_report\n",
    "\n",
    "with configuration.using_config('train',False):\n",
    "    predicts = model(np.array([data[0] for data in test],dtype=np.float32))\n",
    "predicts = np.array([predict.data for predict in predicts])\n",
    "predicts_y = np.argmax(predicts,axis=1)\n",
    "\n",
    "print(\"****Scores for Test Data ****\")\n",
    "print(classification_report(np.array([data[1] for data in test],dtype=np.float32), predicts_y))"
   ]
  },
  {
   "cell_type": "code",
   "execution_count": 112,
   "metadata": {},
   "outputs": [
    {
     "name": "stdout",
     "output_type": "stream",
     "text": [
      "total number of data is 514\n",
      "number of data with first and second choice probability lower than 0.01:5\n",
      "number of data with probabilty higher than 0.95:48\n",
      "1/5\n"
     ]
    },
    {
     "data": {
      "image/png": "[encoded data removed]",
      "text/plain": [
       "<matplotlib.figure.Figure at 0x1a24512828>"
      ]
     },
     "metadata": {},
     "output_type": "display_data"
    },
    {
     "name": "stdout",
     "output_type": "stream",
     "text": [
      "enter label here7\n",
      "2/5\n"
     ]
    },
    {
     "data": {
      "image/png": "[encoded data removed]",
      "text/plain": [
       "<matplotlib.figure.Figure at 0x1a23efdba8>"
      ]
     },
     "metadata": {},
     "output_type": "display_data"
    },
    {
     "name": "stdout",
     "output_type": "stream",
     "text": [
      "enter label here6\n",
      "3/5\n"
     ]
    },
    {
     "data": {
      "image/png": "[encoded data removed]",
      "text/plain": [
       "<matplotlib.figure.Figure at 0x1a2eec5d30>"
      ]
     },
     "metadata": {},
     "output_type": "display_data"
    },
    {
     "name": "stdout",
     "output_type": "stream",
     "text": [
      "enter label here9\n",
      "4/5\n"
     ]
    },
    {
     "data": {
      "image/png": "[encoded data removed]",
      "text/plain": [
       "<matplotlib.figure.Figure at 0x1a2400bdd8>"
      ]
     },
     "metadata": {},
     "output_type": "display_data"
    },
    {
     "name": "stdout",
     "output_type": "stream",
     "text": [
      "enter label here8\n",
      "5/5\n"
     ]
    },
    {
     "data": {
      "image/png": "[encoded data removed]",
      "text/plain": [
       "<matplotlib.figure.Figure at 0x1a2d47d390>"
      ]
     },
     "metadata": {},
     "output_type": "display_data"
    },
    {
     "name": "stdout",
     "output_type": "stream",
     "text": [
      "enter label here5\n",
      "finished\n",
      "53 was added to training data\n"
     ]
    }
   ],
   "source": [
    "proba = softmax(model(x_train_sub).data)\n",
    "x_train , y_train , x_train_sub = concat_data(proba,x_train,y_train,x_train_sub,proba_limit = 0.95,margin_limit = 0.01)"
   ]
  },
  {
   "cell_type": "code",
   "execution_count": 113,
   "metadata": {},
   "outputs": [
    {
     "name": "stdout",
     "output_type": "stream",
     "text": [
      "(14539, 1, 28, 28)\n",
      "(461, 1, 28, 28)\n",
      "(14539,)\n"
     ]
    }
   ],
   "source": [
    "print(x_train.shape)\n",
    "print(x_train_sub.shape)\n",
    "print(y_train.shape)"
   ]
  },
  {
   "cell_type": "code",
   "execution_count": 114,
   "metadata": {},
   "outputs": [
    {
     "name": "stdout",
     "output_type": "stream",
     "text": [
      "iteration   main/loss   test/main/loss  main/accuracy  test/main/accuracy\n",
      "\u001b[J10          0.0133838   0.110723        0.999          0.9663              \n",
      "\u001b[J20          0.0104877   0.119116        0.999          0.9649              \n",
      "\u001b[J30          0.0102549   0.119474        0.999          0.9655              \n",
      "\u001b[J40          0.021159    0.10965         0.995          0.9664              \n",
      "\u001b[J50          0.0111328   0.117468        0.998          0.966               \n",
      "\u001b[J60          0.0167834   0.113922        0.997          0.9678              \n",
      "\u001b[J70          0.016499    0.112428        0.996          0.9672              \n",
      "\u001b[J80          0.011566    0.122404        0.998          0.9664              \n",
      "\u001b[J90          0.0111161   0.111876        0.997          0.9684              \n"
     ]
    }
   ],
   "source": [
    "# 学習の実行\n",
    "model = Model()\n",
    "# 予め学習させておいたモデルの呼び出し\n",
    "serializers.load_npz(\"model_initial\",model)\n",
    "classifier = L.Classifier(model)\n",
    "optimizer = Adam()\n",
    "optimizer.setup(classifier)\n",
    "\n",
    "train_iterator = SerialIterator(train,batch_size=100,repeat=True)\n",
    "test_iterator = SerialIterator(test,batch_size=100,shuffle=False,repeat=False)\n",
    "updater = StandardUpdater(train_iterator,optimizer,loss_func=classifier)\n",
    "trainer = Trainer(updater,(100,'iteration'))\n",
    "trainer.extend(Evaluator(test_iterator,classifier),trigger=(10,'iteration'),name=\"test\")\n",
    "trainer.extend(PrintReport(['iteration','main/loss','test/main/loss','main/accuracy','test/main/accuracy']))\n",
    "\n",
    "logreport =LogReport(trigger=(10,'iteration'))\n",
    "trainer.extend(logreport)\n",
    "trainer.run()\n",
    "serializers.save_npz('model',model)"
   ]
  },
  {
   "cell_type": "code",
   "execution_count": 115,
   "metadata": {},
   "outputs": [
    {
     "name": "stdout",
     "output_type": "stream",
     "text": [
      "****Scores for Test Data ****\n",
      "             precision    recall  f1-score   support\n",
      "\n",
      "        0.0       0.97      0.99      0.98       980\n",
      "        1.0       0.99      0.99      0.99      1135\n",
      "        2.0       0.97      0.94      0.96      1032\n",
      "        3.0       0.94      0.98      0.96      1010\n",
      "        4.0       0.96      0.97      0.97       982\n",
      "        5.0       0.98      0.94      0.96       892\n",
      "        6.0       0.95      0.99      0.97       958\n",
      "        7.0       0.97      0.94      0.96      1028\n",
      "        8.0       0.96      0.95      0.95       974\n",
      "        9.0       0.94      0.96      0.95      1009\n",
      "\n",
      "avg / total       0.96      0.96      0.96     10000\n",
      "\n"
     ]
    }
   ],
   "source": [
    "from sklearn.metrics import classification_report\n",
    "\n",
    "with configuration.using_config('train',False):\n",
    "    predicts = model(np.array([data[0] for data in test],dtype=np.float32))\n",
    "predicts = np.array([predict.data for predict in predicts])\n",
    "predicts_y = np.argmax(predicts,axis=1)\n",
    "\n",
    "print(\"****Scores for Test Data ****\")\n",
    "print(classification_report(np.array([data[1] for data in test],dtype=np.float32), predicts_y))"
   ]
  },
  {
   "cell_type": "code",
   "execution_count": 87,
   "metadata": {},
   "outputs": [
    {
     "name": "stdout",
     "output_type": "stream",
     "text": [
      "total number of data is 769\n",
      "number of data with first and second choice probability lower than 0.01:7\n",
      "number of data with probabilty higher than 0.95:115\n",
      "1/7\n"
     ]
    },
    {
     "data": {
      "image/png": "[encoded data removed]",
      "text/plain": [
       "<matplotlib.figure.Figure at 0x1a2d53ac50>"
      ]
     },
     "metadata": {},
     "output_type": "display_data"
    },
    {
     "name": "stdout",
     "output_type": "stream",
     "text": [
      "enter label here7\n",
      "2/7\n"
     ]
    },
    {
     "data": {
      "image/png": "[encoded data removed]",
      "text/plain": [
       "<matplotlib.figure.Figure at 0x1a2d572128>"
      ]
     },
     "metadata": {},
     "output_type": "display_data"
    },
    {
     "name": "stdout",
     "output_type": "stream",
     "text": [
      "enter label here5\n",
      "3/7\n"
     ]
    },
    {
     "data": {
      "image/png": "[encoded data removed]",
      "text/plain": [
       "<matplotlib.figure.Figure at 0x1a24197dd8>"
      ]
     },
     "metadata": {},
     "output_type": "display_data"
    },
    {
     "name": "stdout",
     "output_type": "stream",
     "text": [
      "enter label here7\n",
      "4/7\n"
     ]
    },
    {
     "data": {
      "image/png": "[encoded data removed]",
      "text/plain": [
       "<matplotlib.figure.Figure at 0x1a242e9390>"
      ]
     },
     "metadata": {},
     "output_type": "display_data"
    },
    {
     "name": "stdout",
     "output_type": "stream",
     "text": [
      "enter label here5\n",
      "5/7\n"
     ]
    },
    {
     "data": {
      "image/png": "[encoded data removed]",
      "text/plain": [
       "<matplotlib.figure.Figure at 0x1a2d65b128>"
      ]
     },
     "metadata": {},
     "output_type": "display_data"
    },
    {
     "name": "stdout",
     "output_type": "stream",
     "text": [
      "enter label here4\n",
      "6/7\n"
     ]
    },
    {
     "data": {
      "image/png": "[encoded data removed]",
      "text/plain": [
       "<matplotlib.figure.Figure at 0x1a2d82b9e8>"
      ]
     },
     "metadata": {},
     "output_type": "display_data"
    },
    {
     "name": "stdout",
     "output_type": "stream",
     "text": [
      "enter label here5\n",
      "7/7\n"
     ]
    },
    {
     "data": {
      "image/png": "[encoded data removed]",
      "text/plain": [
       "<matplotlib.figure.Figure at 0x1a2e8036a0>"
      ]
     },
     "metadata": {},
     "output_type": "display_data"
    },
    {
     "name": "stdout",
     "output_type": "stream",
     "text": [
      "enter label here2\n",
      "finished\n",
      "122 was added to training data\n"
     ]
    }
   ],
   "source": [
    "proba = softmax(model(x_train_sub).data)\n",
    "x_train , y_train , x_train_sub = concat_data(proba,x_train,y_train,x_train_sub,proba_limit = 0.95,margin_limit = 0.01)"
   ]
  },
  {
   "cell_type": "code",
   "execution_count": 88,
   "metadata": {},
   "outputs": [
    {
     "name": "stdout",
     "output_type": "stream",
     "text": [
      "(14353, 1, 28, 28)\n",
      "(647, 1, 28, 28)\n",
      "(14353,)\n"
     ]
    }
   ],
   "source": [
    "print(x_train.shape)\n",
    "print(x_train_sub.shape)\n",
    "print(y_train.shape)"
   ]
  },
  {
   "cell_type": "code",
   "execution_count": 89,
   "metadata": {},
   "outputs": [
    {
     "name": "stdout",
     "output_type": "stream",
     "text": [
      "iteration   main/loss   test/main/loss  main/accuracy  test/main/accuracy\n",
      "\u001b[J10          0.00698394  0.107705        1              0.9667              \n",
      "\u001b[J20          0.00477027  0.113395        1              0.9669              \n",
      "\u001b[J30          0.00758147  0.105269        0.999          0.9682              \n",
      "\u001b[J40          0.00842737  0.109475        0.999          0.9677              \n",
      "\u001b[J50          0.00586512  0.122517        0.999          0.9642              \n",
      "\u001b[J60          0.00348793  0.11355         1              0.9669              \n",
      "\u001b[J70          0.00528244  0.114916        0.999          0.9668              \n",
      "\u001b[J80          0.00501651  0.113323        1              0.9666              \n",
      "\u001b[J90          0.00468417  0.119977        0.999          0.965               \n"
     ]
    }
   ],
   "source": [
    "# 学習の実行\n",
    "model = Model()\n",
    "# 予め学習させておいたモデルの呼び出し\n",
    "serializers.load_npz(\"model_initial\",model)\n",
    "classifier = L.Classifier(model)\n",
    "optimizer = Adam()\n",
    "optimizer.setup(classifier)\n",
    "\n",
    "train_iterator = SerialIterator(train,batch_size=100,repeat=True)\n",
    "test_iterator = SerialIterator(test,batch_size=100,shuffle=False,repeat=False)\n",
    "updater = StandardUpdater(train_iterator,optimizer,loss_func=classifier)\n",
    "trainer = Trainer(updater,(100,'iteration'))\n",
    "trainer.extend(Evaluator(test_iterator,classifier),trigger=(10,'iteration'),name=\"test\")\n",
    "trainer.extend(PrintReport(['iteration','main/loss','test/main/loss','main/accuracy','test/main/accuracy']))\n",
    "\n",
    "logreport =LogReport(trigger=(10,'iteration'))\n",
    "trainer.extend(logreport)\n",
    "trainer.run()\n",
    "serializers.save_npz('model',model)"
   ]
  },
  {
   "cell_type": "code",
   "execution_count": 90,
   "metadata": {},
   "outputs": [
    {
     "name": "stdout",
     "output_type": "stream",
     "text": [
      "****Scores for Test Data ****\n",
      "             precision    recall  f1-score   support\n",
      "\n",
      "        0.0       0.96      0.99      0.98       980\n",
      "        1.0       0.98      0.99      0.99      1135\n",
      "        2.0       0.97      0.96      0.96      1032\n",
      "        3.0       0.95      0.98      0.97      1010\n",
      "        4.0       0.96      0.98      0.97       982\n",
      "        5.0       0.97      0.95      0.96       892\n",
      "        6.0       0.98      0.97      0.98       958\n",
      "        7.0       0.97      0.96      0.96      1028\n",
      "        8.0       0.97      0.93      0.95       974\n",
      "        9.0       0.95      0.96      0.95      1009\n",
      "\n",
      "avg / total       0.97      0.97      0.97     10000\n",
      "\n"
     ]
    }
   ],
   "source": [
    "from sklearn.metrics import classification_report\n",
    "\n",
    "with configuration.using_config('train',False):\n",
    "    predicts = model(np.array([data[0] for data in test],dtype=np.float32))\n",
    "predicts = np.array([predict.data for predict in predicts])\n",
    "predicts_y = np.argmax(predicts,axis=1)\n",
    "\n",
    "print(\"****Scores for Test Data ****\")\n",
    "print(classification_report(np.array([data[1] for data in test],dtype=np.float32), predicts_y))"
   ]
  },
  {
   "cell_type": "code",
   "execution_count": 91,
   "metadata": {},
   "outputs": [
    {
     "name": "stdout",
     "output_type": "stream",
     "text": [
      "total number of data is 647\n",
      "number of data with first and second choice probability lower than 0.01:3\n",
      "number of data with probabilty higher than 0.95:77\n",
      "1/3\n"
     ]
    },
    {
     "data": {
      "image/png": "[encoded data removed]",
      "text/plain": [
       "<matplotlib.figure.Figure at 0x1a2d685e80>"
      ]
     },
     "metadata": {},
     "output_type": "display_data"
    },
    {
     "name": "stdout",
     "output_type": "stream",
     "text": [
      "enter label here6\n",
      "2/3\n"
     ]
    },
    {
     "data": {
      "image/png": "[encoded data removed]",
      "text/plain": [
       "<matplotlib.figure.Figure at 0x1a23efd7b8>"
      ]
     },
     "metadata": {},
     "output_type": "display_data"
    },
    {
     "name": "stdout",
     "output_type": "stream",
     "text": [
      "enter label here7\n",
      "3/3\n"
     ]
    },
    {
     "data": {
      "image/png": "[encoded data removed]",
      "text/plain": [
       "<matplotlib.figure.Figure at 0x1a2d626cc0>"
      ]
     },
     "metadata": {},
     "output_type": "display_data"
    },
    {
     "name": "stdout",
     "output_type": "stream",
     "text": [
      "enter label here8\n",
      "finished\n",
      "80 was added to training data\n"
     ]
    }
   ],
   "source": [
    "proba = softmax(model(x_train_sub).data)\n",
    "x_train , y_train , x_train_sub = concat_data(proba,x_train,y_train,x_train_sub,proba_limit = 0.95,margin_limit = 0.01)"
   ]
  },
  {
   "cell_type": "code",
   "execution_count": 92,
   "metadata": {},
   "outputs": [
    {
     "name": "stdout",
     "output_type": "stream",
     "text": [
      "iteration   main/loss   test/main/loss  main/accuracy  test/main/accuracy\n",
      "\u001b[J10          0.00451389  0.113683        1              0.9674              \n",
      "\u001b[J20          0.00622301  0.115984        1              0.9665              \n",
      "\u001b[J30          0.00492899  0.107887        0.999          0.9697              \n",
      "\u001b[J40          0.0048724   0.105367        1              0.9699              \n",
      "\u001b[J50          0.00613212  0.11973         1              0.965               \n",
      "\u001b[J60          0.00647282  0.107785        0.998          0.9683              \n",
      "\u001b[J70          0.00549109  0.110902        1              0.9675              \n",
      "\u001b[J80          0.00692155  0.116338        0.999          0.9661              \n",
      "\u001b[J90          0.00488936  0.114009        1              0.9669              \n"
     ]
    }
   ],
   "source": [
    "# 学習の実行\n",
    "model = Model()\n",
    "# 予め学習させておいたモデルの呼び出し\n",
    "serializers.load_npz(\"model_initial\",model)\n",
    "classifier = L.Classifier(model)\n",
    "optimizer = Adam()\n",
    "optimizer.setup(classifier)\n",
    "\n",
    "train_iterator = SerialIterator(train,batch_size=100,repeat=True)\n",
    "test_iterator = SerialIterator(test,batch_size=100,shuffle=False,repeat=False)\n",
    "updater = StandardUpdater(train_iterator,optimizer,loss_func=classifier)\n",
    "trainer = Trainer(updater,(100,'iteration'))\n",
    "trainer.extend(Evaluator(test_iterator,classifier),trigger=(10,'iteration'),name=\"test\")\n",
    "trainer.extend(PrintReport(['iteration','main/loss','test/main/loss','main/accuracy','test/main/accuracy']))\n",
    "\n",
    "logreport =LogReport(trigger=(10,'iteration'))\n",
    "trainer.extend(logreport)\n",
    "trainer.run()\n",
    "serializers.save_npz('model',model)"
   ]
  },
  {
   "cell_type": "code",
   "execution_count": 93,
   "metadata": {},
   "outputs": [
    {
     "name": "stdout",
     "output_type": "stream",
     "text": [
      "total number of data is 567\n",
      "number of data with first and second choice probability lower than 0.01:4\n",
      "number of data with probabilty higher than 0.95:31\n",
      "1/4\n"
     ]
    },
    {
     "data": {
      "image/png": "[encoded data removed]",
      "text/plain": [
       "<matplotlib.figure.Figure at 0x1a2e80bf60>"
      ]
     },
     "metadata": {},
     "output_type": "display_data"
    },
    {
     "name": "stdout",
     "output_type": "stream",
     "text": [
      "enter label here2\n",
      "2/4\n"
     ]
    },
    {
     "data": {
      "image/png": "[encoded data removed]",
      "text/plain": [
       "<matplotlib.figure.Figure at 0x1a2eb671d0>"
      ]
     },
     "metadata": {},
     "output_type": "display_data"
    },
    {
     "name": "stdout",
     "output_type": "stream",
     "text": [
      "enter label here8\n",
      "3/4\n"
     ]
    },
    {
     "data": {
      "image/png": "[encoded data removed]",
      "text/plain": [
       "<matplotlib.figure.Figure at 0x1a2d4a89e8>"
      ]
     },
     "metadata": {},
     "output_type": "display_data"
    },
    {
     "name": "stdout",
     "output_type": "stream",
     "text": [
      "enter label here7\n",
      "4/4\n"
     ]
    },
    {
     "data": {
      "image/png": "[encoded data removed]",
      "text/plain": [
       "<matplotlib.figure.Figure at 0x1a24146940>"
      ]
     },
     "metadata": {},
     "output_type": "display_data"
    },
    {
     "name": "stdout",
     "output_type": "stream",
     "text": [
      "enter label here9\n",
      "finished\n",
      "35 was added to training data\n"
     ]
    }
   ],
   "source": [
    "proba = softmax(model(x_train_sub).data)\n",
    "x_train , y_train , x_train_sub = concat_data(proba,x_train,y_train,x_train_sub,proba_limit = 0.95,margin_limit = 0.01)"
   ]
  },
  {
   "cell_type": "code",
   "execution_count": 94,
   "metadata": {},
   "outputs": [
    {
     "name": "stdout",
     "output_type": "stream",
     "text": [
      "iteration   main/loss   test/main/loss  main/accuracy  test/main/accuracy\n",
      "\u001b[J10          0.00701181  0.107896        0.999          0.9665              \n",
      "\u001b[J20          0.00950507  0.111017        0.999          0.9678              \n",
      "\u001b[J30          0.00667346  0.131462        1              0.962               \n",
      "\u001b[J40          0.00776424  0.113915        0.999          0.9669              \n",
      "\u001b[J50          0.00679318  0.112285        0.999          0.9679              \n",
      "\u001b[J60          0.00838407  0.121676        0.999          0.9648              \n",
      "\u001b[J70          0.0053012   0.121877        1              0.9643              \n",
      "\u001b[J80          0.00491775  0.115356        0.999          0.9673              \n",
      "\u001b[J90          0.00324423  0.107636        1              0.9695              \n"
     ]
    }
   ],
   "source": [
    "# 学習の実行\n",
    "model = Model()\n",
    "# 予め学習させておいたモデルの呼び出し\n",
    "serializers.load_npz(\"model_initial\",model)\n",
    "classifier = L.Classifier(model)\n",
    "optimizer = Adam()\n",
    "optimizer.setup(classifier)\n",
    "\n",
    "train_iterator = SerialIterator(train,batch_size=100,repeat=True)\n",
    "test_iterator = SerialIterator(test,batch_size=100,shuffle=False,repeat=False)\n",
    "updater = StandardUpdater(train_iterator,optimizer,loss_func=classifier)\n",
    "trainer = Trainer(updater,(100,'iteration'))\n",
    "trainer.extend(Evaluator(test_iterator,classifier),trigger=(10,'iteration'),name=\"test\")\n",
    "trainer.extend(PrintReport(['iteration','main/loss','test/main/loss','main/accuracy','test/main/accuracy']))\n",
    "\n",
    "logreport =LogReport(trigger=(10,'iteration'))\n",
    "trainer.extend(logreport)\n",
    "trainer.run()\n",
    "serializers.save_npz('model',model)"
   ]
  },
  {
   "cell_type": "code",
   "execution_count": null,
   "metadata": {},
   "outputs": [],
   "source": []
  },
  {
   "cell_type": "code",
   "execution_count": null,
   "metadata": {},
   "outputs": [],
   "source": []
  }
 ],
 "metadata": {
  "kernelspec": {
   "display_name": "Python 3",
   "language": "python",
   "name": "python3"
  },
  "language_info": {
   "codemirror_mode": {
    "name": "ipython",
    "version": 3
   },
   "file_extension": ".py",
   "mimetype": "text/x-python",
   "name": "python",
   "nbconvert_exporter": "python",
   "pygments_lexer": "ipython3",
   "version": "3.6.4"
  }
 },
 "nbformat": 4,
 "nbformat_minor": 2
}
